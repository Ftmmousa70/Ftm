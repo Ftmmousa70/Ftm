{
 "cells": [
  {
   "cell_type": "code",
   "execution_count": 2,
   "metadata": {},
   "outputs": [
    {
     "name": "stdout",
     "output_type": "stream",
     "text": [
      "فاطمه موسی زاده موجودی حسابش : 1700 است\n"
     ]
    }
   ],
   "source": [
    "class GholaK :\n",
    "    karbar = [\n",
    "        {\"Radif\": 1,\n",
    "         \"Fname\":\"فاطمه\",\n",
    "         \"Lname\": \"موسی زاده\",\n",
    "         \"Mojodi\": 0\n",
    "         },\n",
    "         {\"Radif\": 2,\n",
    "          \"Fname\":\"طاها\",\n",
    "          \"Lname\":\"امیری\",\n",
    "          \"Mojodi\": 0\n",
    "          },\n",
    "          {\"Radif\": 3,\n",
    "           \"Fname\":\"یاسین\",\n",
    "           \"Lname\":\"امیری\",\n",
    "           \"Mojodi\": 0\n",
    "           }\n",
    "    ]\n",
    "    def __init__(self,userId) -> None:\n",
    "        self.userId = userId\n",
    "\n",
    "    def Mojodi (self) -> float:\n",
    "        for user in self.karbar:\n",
    "            if user[\"Radif\"] == self.userId:\n",
    "                return user[\"Mojodi\"]\n",
    "            \n",
    "    def varizi(self,count) -> float:\n",
    "        for user in self.karbar:\n",
    "            if user[\"Radif\"] == self.userId:\n",
    "                user[\"Mojodi\"] = user[\"Mojodi\"] + count\n",
    "\n",
    "    def bardashti(self,count) -> float:\n",
    "        for user in self.karbar:\n",
    "            if user[\"Radif\"] == self.userId:\n",
    "                user[\"Mojodi\"] = user[\"Mojodi\"] - count\n",
    "\n",
    "    def etelaat(self) -> dict:\n",
    "        for user in self.karbar:\n",
    "            if user[\"Radif\"] == self.userId:\n",
    "                return user\n",
    "usergholak = GholaK(1);\n",
    "userinfo = usergholak.etelaat()\n",
    "usergholak.varizi(2000)\n",
    "usergholak.bardashti(300)\n",
    "print(f\"{userinfo[\"Fname\"]} {userinfo[\"Lname\"]} موجودی حسابش : {usergholak.Mojodi()} است\")"
   ]
  }
 ],
 "metadata": {
  "kernelspec": {
   "display_name": "Python 3",
   "language": "python",
   "name": "python3"
  },
  "language_info": {
   "codemirror_mode": {
    "name": "ipython",
    "version": 3
   },
   "file_extension": ".py",
   "mimetype": "text/x-python",
   "name": "python",
   "nbconvert_exporter": "python",
   "pygments_lexer": "ipython3",
   "version": "3.12.0"
  }
 },
 "nbformat": 4,
 "nbformat_minor": 2
}
